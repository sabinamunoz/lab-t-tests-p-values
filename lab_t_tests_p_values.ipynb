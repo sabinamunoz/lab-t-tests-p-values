{
  "nbformat": 4,
  "nbformat_minor": 0,
  "metadata": {
    "colab": {
      "provenance": [],
      "authorship_tag": "ABX9TyMxpWmNSc+mnMs3a4AlZAAv",
      "include_colab_link": true
    },
    "kernelspec": {
      "name": "python3",
      "display_name": "Python 3"
    },
    "language_info": {
      "name": "python"
    }
  },
  "cells": [
    {
      "cell_type": "markdown",
      "metadata": {
        "id": "view-in-github",
        "colab_type": "text"
      },
      "source": [
        "<a href=\"https://colab.research.google.com/github/sabinamunoz/lab-t-tests-p-values/blob/master/lab_t_tests_p_values.ipynb\" target=\"_parent\"><img src=\"https://colab.research.google.com/assets/colab-badge.svg\" alt=\"Open In Colab\"/></a>"
      ]
    },
    {
      "cell_type": "markdown",
      "source": [
        "#**1.**"
      ],
      "metadata": {
        "id": "-dJW2mMvhPCS"
      }
    },
    {
      "cell_type": "code",
      "source": [
        "import statistics\n",
        "import math\n",
        "import numpy as np\n",
        "from scipy.stats import ttest_ind, norm"
      ],
      "metadata": {
        "id": "jl-UMO9BhRVJ"
      },
      "execution_count": 1,
      "outputs": []
    },
    {
      "cell_type": "code",
      "source": [
        "new_machine_tests = [42.1, 41, 41.3, 41.8, 42.4, 42.8, 43.2, 42.3, 41.8, 42.7]\n",
        "old_machine_tests = [42.7, 43.6, 43.8, 43.3, 42.5, 43.5, 43.1, 41.7, 44, 44.1]\n",
        "\n",
        "new_machine_mean = statistics.mean(new_machine_tests)\n",
        "old_machine_mean = statistics.mean(old_machine_tests)\n",
        "print(new_machine_mean)\n",
        "print(old_machine_mean)"
      ],
      "metadata": {
        "colab": {
          "base_uri": "https://localhost:8080/"
        },
        "id": "M5i0ZXAnhUDF",
        "outputId": "f0b70ecb-7dd2-4bc5-d080-c25d3bc2a042"
      },
      "execution_count": 2,
      "outputs": [
        {
          "output_type": "stream",
          "name": "stdout",
          "text": [
            "42.14\n",
            "43.230000000000004\n"
          ]
        }
      ]
    },
    {
      "cell_type": "markdown",
      "source": [
        "- H0: u = 43.23\n",
        "\n",
        "\n",
        "- Ha: u < 43.23"
      ],
      "metadata": {
        "id": "lb31Pj9qh0o-"
      }
    },
    {
      "cell_type": "code",
      "source": [
        "pop_mean = 43.23\n",
        "\n",
        "n = 10\n",
        "sample_mean = 42.14\n",
        "sample_std = np.std(new_machine_tests)\n",
        "\n",
        "statistic = (sample_mean - pop_mean)/(sample_std/math.sqrt(n))\n",
        "statistic"
      ],
      "metadata": {
        "colab": {
          "base_uri": "https://localhost:8080/"
        },
        "id": "-7IYk5VshxZd",
        "outputId": "3fc6313c-4280-4cf6-f3ce-986735ba29e0"
      },
      "execution_count": 3,
      "outputs": [
        {
          "output_type": "execute_result",
          "data": {
            "text/plain": [
              "-5.316124512154909"
            ]
          },
          "metadata": {},
          "execution_count": 3
        }
      ]
    },
    {
      "cell_type": "markdown",
      "source": [
        "**T-table: one-tailed alpha 0.05 9DF = 1.833**\n",
        "\n",
        "\n",
        "- abs(-5.316) > 1.66 - null hypothesis rejected with 95% confidence\n",
        "\n",
        "\n",
        "**Results show a statistical significance in the average packing time of the two machines:**\n",
        "\n",
        "- the new machine is faster"
      ],
      "metadata": {
        "id": "n9gI-8CLiWiV"
      }
    },
    {
      "cell_type": "code",
      "source": [],
      "metadata": {
        "id": "ot2cKa9AiTU2"
      },
      "execution_count": null,
      "outputs": []
    }
  ]
}